version https://git-lfs.github.com/spec/v1
oid sha256:e6a0681d6d57865b5b308642396ae06b233a81378027a8d549bf26e1102aa0c2
size 87380
