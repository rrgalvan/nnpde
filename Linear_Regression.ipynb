{
  "cells": [
    {
      "cell_type": "markdown",
      "metadata": {
        "id": "view-in-github",
        "colab_type": "text"
      },
      "source": [
        "<a href=\"https://colab.research.google.com/github/rrgalvan/nnpde/blob/main/Linear_Regression.ipynb\" target=\"_parent\"><img src=\"https://colab.research.google.com/assets/colab-badge.svg\" alt=\"Open In Colab\"/></a>"
      ]
    },
    {
      "cell_type": "code",
      "execution_count": null,
      "metadata": {
        "id": "imMqcbxYXvri"
      },
      "outputs": [],
      "source": [
        "import numpy as np\n",
        "import matplotlib.pyplot as plt\n",
        "\n",
        "import tensorflow as tf\n",
        "from tensorflow.keras.models import Sequential\n",
        "from tensorflow.keras.layers import Dense"
      ]
    },
    {
      "cell_type": "code",
      "source": [
        "# En este caso, fijamos semilfa pseudoaleatoria para tener resultados deterministas\n",
        "np.random.seed(100)\n",
        "tf.random.set_seed(100)"
      ],
      "metadata": {
        "id": "a0slWiy9GaCd"
      },
      "execution_count": null,
      "outputs": []
    },
    {
      "cell_type": "code",
      "source": [
        "# Definimos nube de puntos de entrenamiento\n",
        "\n",
        "a, b = 0, 10\n",
        "N_data = 50\n",
        "x_train = np.linspace(a, b, N_data)\n",
        "y_train = x_train + 5*tf.random.uniform(shape=(N_data,))\n",
        "\n",
        "plt.plot(x_train, y_train, 'o')"
      ],
      "metadata": {
        "colab": {
          "base_uri": "https://localhost:8080/",
          "height": 448
        },
        "id": "9rprFGxiHOgW",
        "outputId": "d8ae442b-6c42-4c09-963a-816d0f35853c"
      },
      "execution_count": null,
      "outputs": [
        {
          "output_type": "execute_result",
          "data": {
            "text/plain": [
              "[<matplotlib.lines.Line2D at 0x79d28aa3ea70>]"
            ]
          },
          "metadata": {},
          "execution_count": 46
        },
        {
          "output_type": "display_data",
          "data": {
            "text/plain": [
              "<Figure size 640x480 with 1 Axes>"
            ],
            "image/png": "[encoded data removed]"
          },
          "metadata": {}
        }
      ]
    },
    {
      "cell_type": "code",
      "source": [
        "# Definimos una red neuronal básica, densa y secuencial\n",
        "model = Sequential()\n",
        "\n",
        "# Define the model consisting of a single layer composed by an unique\n",
        "# neuron,  $x \\in R^1 -> y \\in \\R^1$\n",
        "model.add(Dense(units=16, input_shape=(1,)))\n",
        "\n",
        "# Display a summary of the model architecture:\n",
        "# única capa con una neurona $\\sigma(wx+b)$, $w$, $b$ parámetros\n",
        "model.summary()"
      ],
      "metadata": {
        "colab": {
          "base_uri": "https://localhost:8080/"
        },
        "id": "F2jrPhT_Jhru",
        "outputId": "06c9acb4-5cda-4be6-958a-4632145bd57a"
      },
      "execution_count": null,
      "outputs": [
        {
          "output_type": "stream",
          "name": "stdout",
          "text": [
            "Model: \"sequential_5\"\n",
            "_________________________________________________________________\n",
            " Layer (type)                Output Shape              Param #   \n",
            "=================================================================\n",
            " dense_4 (Dense)             (None, 1)                 2         \n",
            "                                                                 \n",
            "=================================================================\n",
            "Total params: 2 (8.00 Byte)\n",
            "Trainable params: 2 (8.00 Byte)\n",
            "Non-trainable params: 0 (0.00 Byte)\n",
            "_________________________________________________________________\n"
          ]
        }
      ]
    },
    {
      "cell_type": "code",
      "source": [
        "# Compile the Model, using an algorithm for gradient descent\n",
        "# En este caso, RMSprop.\n",
        "# MSE = funcional de coste\n",
        "model.compile(optimizer=tf.keras.optimizers.RMSprop(learning_rate=.005),\n",
        "              loss='mse')"
      ],
      "metadata": {
        "id": "hYxQjZ8tHqix"
      },
      "execution_count": null,
      "outputs": []
    },
    {
      "cell_type": "code",
      "source": [
        "# Training of the neuron network\n",
        "# Epochs -> iteraciones de gradiente\n",
        "history = model.fit(x_train,\n",
        "                    y_train,\n",
        "                    batch_size=16,\n",
        "                    epochs=100,\n",
        "                    validation_split=0.3)"
      ],
      "metadata": {
        "colab": {
          "base_uri": "https://localhost:8080/"
        },
        "id": "U8bAGiiXIDPO",
        "outputId": "2093609f-744f-4812-dc27-b783731f1723"
      },
      "execution_count": null,
      "outputs": [
        {
          "output_type": "stream",
          "name": "stdout",
          "text": [
            "Epoch 1/100\n",
            "3/3 [==============================] - 0s 53ms/step - loss: 14.9250 - val_loss: 25.5570\n",
            "Epoch 2/100\n",
            "3/3 [==============================] - 0s 13ms/step - loss: 13.8619 - val_loss: 23.4409\n",
            "Epoch 3/100\n",
            "3/3 [==============================] - 0s 11ms/step - loss: 13.1279 - val_loss: 21.8106\n",
            "Epoch 4/100\n",
            "3/3 [==============================] - 0s 12ms/step - loss: 12.5358 - val_loss: 20.2502\n",
            "Epoch 5/100\n",
            "3/3 [==============================] - 0s 12ms/step - loss: 11.9738 - val_loss: 19.1364\n",
            "Epoch 6/100\n",
            "3/3 [==============================] - 0s 13ms/step - loss: 11.5493 - val_loss: 18.0692\n",
            "Epoch 7/100\n",
            "3/3 [==============================] - 0s 10ms/step - loss: 11.1322 - val_loss: 16.9859\n",
            "Epoch 8/100\n",
            "3/3 [==============================] - 0s 10ms/step - loss: 10.7056 - val_loss: 15.7698\n",
            "Epoch 9/100\n",
            "3/3 [==============================] - 0s 10ms/step - loss: 10.2482 - val_loss: 14.8666\n",
            "Epoch 10/100\n",
            "3/3 [==============================] - 0s 14ms/step - loss: 9.8862 - val_loss: 14.0012\n",
            "Epoch 11/100\n",
            "3/3 [==============================] - 0s 11ms/step - loss: 9.5390 - val_loss: 13.1873\n",
            "Epoch 12/100\n",
            "3/3 [==============================] - 0s 11ms/step - loss: 9.1985 - val_loss: 12.1840\n",
            "Epoch 13/100\n",
            "3/3 [==============================] - 0s 13ms/step - loss: 8.8014 - val_loss: 11.4706\n",
            "Epoch 14/100\n",
            "3/3 [==============================] - 0s 13ms/step - loss: 8.4985 - val_loss: 10.7352\n",
            "Epoch 15/100\n",
            "3/3 [==============================] - 0s 12ms/step - loss: 8.1783 - val_loss: 9.9222\n",
            "Epoch 16/100\n",
            "3/3 [==============================] - 0s 11ms/step - loss: 7.8341 - val_loss: 9.3496\n",
            "Epoch 17/100\n",
            "3/3 [==============================] - 0s 12ms/step - loss: 7.5769 - val_loss: 8.7613\n",
            "Epoch 18/100\n",
            "3/3 [==============================] - 0s 13ms/step - loss: 7.3071 - val_loss: 8.1551\n",
            "Epoch 19/100\n",
            "3/3 [==============================] - 0s 14ms/step - loss: 7.0212 - val_loss: 7.4864\n",
            "Epoch 20/100\n",
            "3/3 [==============================] - 0s 11ms/step - loss: 6.7107 - val_loss: 6.7702\n",
            "Epoch 21/100\n",
            "3/3 [==============================] - 0s 14ms/step - loss: 6.3833 - val_loss: 6.2497\n",
            "Epoch 22/100\n",
            "3/3 [==============================] - 0s 11ms/step - loss: 6.1212 - val_loss: 5.7896\n",
            "Epoch 23/100\n",
            "3/3 [==============================] - 0s 13ms/step - loss: 5.8848 - val_loss: 5.3275\n",
            "Epoch 24/100\n",
            "3/3 [==============================] - 0s 14ms/step - loss: 5.6427 - val_loss: 4.9448\n",
            "Epoch 25/100\n",
            "3/3 [==============================] - 0s 12ms/step - loss: 5.4273 - val_loss: 4.5210\n",
            "Epoch 26/100\n",
            "3/3 [==============================] - 0s 12ms/step - loss: 5.1955 - val_loss: 4.1221\n",
            "Epoch 27/100\n",
            "3/3 [==============================] - 0s 10ms/step - loss: 4.9649 - val_loss: 3.8438\n",
            "Epoch 28/100\n",
            "3/3 [==============================] - 0s 12ms/step - loss: 4.7879 - val_loss: 3.5475\n",
            "Epoch 29/100\n",
            "3/3 [==============================] - 0s 13ms/step - loss: 4.5881 - val_loss: 3.2473\n",
            "Epoch 30/100\n",
            "3/3 [==============================] - 0s 10ms/step - loss: 4.3798 - val_loss: 2.9507\n",
            "Epoch 31/100\n",
            "3/3 [==============================] - 0s 10ms/step - loss: 4.1692 - val_loss: 2.7607\n",
            "Epoch 32/100\n",
            "3/3 [==============================] - 0s 9ms/step - loss: 4.0045 - val_loss: 2.5743\n",
            "Epoch 33/100\n",
            "3/3 [==============================] - 0s 10ms/step - loss: 3.8367 - val_loss: 2.4468\n",
            "Epoch 34/100\n",
            "3/3 [==============================] - 0s 9ms/step - loss: 3.6981 - val_loss: 2.3446\n",
            "Epoch 35/100\n",
            "3/3 [==============================] - 0s 11ms/step - loss: 3.5678 - val_loss: 2.2538\n",
            "Epoch 36/100\n",
            "3/3 [==============================] - 0s 11ms/step - loss: 3.4339 - val_loss: 2.1777\n",
            "Epoch 37/100\n",
            "3/3 [==============================] - 0s 11ms/step - loss: 3.2879 - val_loss: 2.1378\n",
            "Epoch 38/100\n",
            "3/3 [==============================] - 0s 11ms/step - loss: 3.1614 - val_loss: 2.1277\n",
            "Epoch 39/100\n",
            "3/3 [==============================] - 0s 11ms/step - loss: 3.0551 - val_loss: 2.1372\n",
            "Epoch 40/100\n",
            "3/3 [==============================] - 0s 11ms/step - loss: 2.9628 - val_loss: 2.1734\n",
            "Epoch 41/100\n",
            "3/3 [==============================] - 0s 10ms/step - loss: 2.8622 - val_loss: 2.2377\n",
            "Epoch 42/100\n",
            "3/3 [==============================] - 0s 10ms/step - loss: 2.7652 - val_loss: 2.3135\n",
            "Epoch 43/100\n",
            "3/3 [==============================] - 0s 10ms/step - loss: 2.6883 - val_loss: 2.4308\n",
            "Epoch 44/100\n",
            "3/3 [==============================] - 0s 12ms/step - loss: 2.6116 - val_loss: 2.5235\n",
            "Epoch 45/100\n",
            "3/3 [==============================] - 0s 13ms/step - loss: 2.5537 - val_loss: 2.5833\n",
            "Epoch 46/100\n",
            "3/3 [==============================] - 0s 12ms/step - loss: 2.5175 - val_loss: 2.7604\n",
            "Epoch 47/100\n",
            "3/3 [==============================] - 0s 12ms/step - loss: 2.4506 - val_loss: 2.8496\n",
            "Epoch 48/100\n",
            "3/3 [==============================] - 0s 12ms/step - loss: 2.4148 - val_loss: 3.0710\n",
            "Epoch 49/100\n",
            "3/3 [==============================] - 0s 10ms/step - loss: 2.3567 - val_loss: 3.3271\n",
            "Epoch 50/100\n",
            "3/3 [==============================] - 0s 11ms/step - loss: 2.3076 - val_loss: 3.4111\n",
            "Epoch 51/100\n",
            "3/3 [==============================] - 0s 11ms/step - loss: 2.2889 - val_loss: 3.4555\n",
            "Epoch 52/100\n",
            "3/3 [==============================] - 0s 12ms/step - loss: 2.2750 - val_loss: 3.6607\n",
            "Epoch 53/100\n",
            "3/3 [==============================] - 0s 12ms/step - loss: 2.2459 - val_loss: 3.9556\n",
            "Epoch 54/100\n",
            "3/3 [==============================] - 0s 12ms/step - loss: 2.2135 - val_loss: 4.1272\n",
            "Epoch 55/100\n",
            "3/3 [==============================] - 0s 12ms/step - loss: 2.1935 - val_loss: 4.3007\n",
            "Epoch 56/100\n",
            "3/3 [==============================] - 0s 11ms/step - loss: 2.1811 - val_loss: 4.3441\n",
            "Epoch 57/100\n",
            "3/3 [==============================] - 0s 11ms/step - loss: 2.1728 - val_loss: 4.4964\n",
            "Epoch 58/100\n",
            "3/3 [==============================] - 0s 10ms/step - loss: 2.1572 - val_loss: 4.8161\n",
            "Epoch 59/100\n",
            "3/3 [==============================] - 0s 13ms/step - loss: 2.1409 - val_loss: 5.0487\n",
            "Epoch 60/100\n",
            "3/3 [==============================] - 0s 12ms/step - loss: 2.1397 - val_loss: 5.3294\n",
            "Epoch 61/100\n",
            "3/3 [==============================] - 0s 11ms/step - loss: 2.1273 - val_loss: 5.1228\n",
            "Epoch 62/100\n",
            "3/3 [==============================] - 0s 14ms/step - loss: 2.1271 - val_loss: 4.8296\n",
            "Epoch 63/100\n",
            "3/3 [==============================] - 0s 12ms/step - loss: 2.1260 - val_loss: 4.7687\n",
            "Epoch 64/100\n",
            "3/3 [==============================] - 0s 14ms/step - loss: 2.1200 - val_loss: 4.9015\n",
            "Epoch 65/100\n",
            "3/3 [==============================] - 0s 12ms/step - loss: 2.1095 - val_loss: 4.9773\n",
            "Epoch 66/100\n",
            "3/3 [==============================] - 0s 11ms/step - loss: 2.1095 - val_loss: 5.1848\n",
            "Epoch 67/100\n",
            "3/3 [==============================] - 0s 11ms/step - loss: 2.1017 - val_loss: 5.1697\n",
            "Epoch 68/100\n",
            "3/3 [==============================] - 0s 11ms/step - loss: 2.0990 - val_loss: 4.8728\n",
            "Epoch 69/100\n",
            "3/3 [==============================] - 0s 11ms/step - loss: 2.0859 - val_loss: 4.7276\n",
            "Epoch 70/100\n",
            "3/3 [==============================] - 0s 11ms/step - loss: 2.0856 - val_loss: 4.9505\n",
            "Epoch 71/100\n",
            "3/3 [==============================] - 0s 12ms/step - loss: 2.0736 - val_loss: 4.9183\n",
            "Epoch 72/100\n",
            "3/3 [==============================] - 0s 12ms/step - loss: 2.0708 - val_loss: 4.8978\n",
            "Epoch 73/100\n",
            "3/3 [==============================] - 0s 10ms/step - loss: 2.0688 - val_loss: 4.9245\n",
            "Epoch 74/100\n",
            "3/3 [==============================] - 0s 11ms/step - loss: 2.0623 - val_loss: 4.9773\n",
            "Epoch 75/100\n",
            "3/3 [==============================] - 0s 11ms/step - loss: 2.0648 - val_loss: 4.7856\n",
            "Epoch 76/100\n",
            "3/3 [==============================] - 0s 13ms/step - loss: 2.0548 - val_loss: 4.8495\n",
            "Epoch 77/100\n",
            "3/3 [==============================] - 0s 13ms/step - loss: 2.0421 - val_loss: 4.7927\n",
            "Epoch 78/100\n",
            "3/3 [==============================] - 0s 10ms/step - loss: 2.0379 - val_loss: 4.8072\n",
            "Epoch 79/100\n",
            "3/3 [==============================] - 0s 10ms/step - loss: 2.0363 - val_loss: 4.5200\n",
            "Epoch 80/100\n",
            "3/3 [==============================] - 0s 10ms/step - loss: 2.0261 - val_loss: 4.8193\n",
            "Epoch 81/100\n",
            "3/3 [==============================] - 0s 10ms/step - loss: 2.0180 - val_loss: 5.0241\n",
            "Epoch 82/100\n",
            "3/3 [==============================] - 0s 10ms/step - loss: 2.0150 - val_loss: 4.7375\n",
            "Epoch 83/100\n",
            "3/3 [==============================] - 0s 10ms/step - loss: 2.0061 - val_loss: 4.7150\n",
            "Epoch 84/100\n",
            "3/3 [==============================] - 0s 12ms/step - loss: 2.0044 - val_loss: 4.4559\n",
            "Epoch 85/100\n",
            "3/3 [==============================] - 0s 13ms/step - loss: 2.0004 - val_loss: 4.4326\n",
            "Epoch 86/100\n",
            "3/3 [==============================] - 0s 11ms/step - loss: 1.9962 - val_loss: 4.5548\n",
            "Epoch 87/100\n",
            "3/3 [==============================] - 0s 10ms/step - loss: 1.9910 - val_loss: 4.3782\n",
            "Epoch 88/100\n",
            "3/3 [==============================] - 0s 11ms/step - loss: 1.9879 - val_loss: 4.4151\n",
            "Epoch 89/100\n",
            "3/3 [==============================] - 0s 10ms/step - loss: 1.9818 - val_loss: 4.3813\n",
            "Epoch 90/100\n",
            "3/3 [==============================] - 0s 11ms/step - loss: 1.9845 - val_loss: 4.6176\n",
            "Epoch 91/100\n",
            "3/3 [==============================] - 0s 11ms/step - loss: 1.9731 - val_loss: 4.6948\n",
            "Epoch 92/100\n",
            "3/3 [==============================] - 0s 12ms/step - loss: 1.9712 - val_loss: 4.9143\n",
            "Epoch 93/100\n",
            "3/3 [==============================] - 0s 13ms/step - loss: 1.9726 - val_loss: 4.9523\n",
            "Epoch 94/100\n",
            "3/3 [==============================] - 0s 10ms/step - loss: 1.9630 - val_loss: 4.8613\n",
            "Epoch 95/100\n",
            "3/3 [==============================] - 0s 10ms/step - loss: 1.9596 - val_loss: 4.6687\n",
            "Epoch 96/100\n",
            "3/3 [==============================] - 0s 17ms/step - loss: 1.9547 - val_loss: 4.9030\n",
            "Epoch 97/100\n",
            "3/3 [==============================] - 0s 14ms/step - loss: 1.9581 - val_loss: 4.8486\n",
            "Epoch 98/100\n",
            "3/3 [==============================] - 0s 11ms/step - loss: 1.9471 - val_loss: 4.6603\n",
            "Epoch 99/100\n",
            "3/3 [==============================] - 0s 12ms/step - loss: 1.9419 - val_loss: 4.7475\n",
            "Epoch 100/100\n",
            "3/3 [==============================] - 0s 13ms/step - loss: 1.9434 - val_loss: 4.4819\n"
          ]
        }
      ]
    },
    {
      "cell_type": "code",
      "source": [
        "def plot_loss(history):\n",
        "  \"\"\"Dibuja el historial de minimización de la función de cose o pérdida\"\"\"\n",
        "  fig, ax = plt.subplots(figsize=(7,4))\n",
        "  ax.plot(history.history['loss'], 'g', label='Training Loss')\n",
        "  #ax.plot(history.history['val_loss'], 'b', label='Validation Loss')\n",
        "  ax.set_xlabel('Epoch')\n",
        "  ax.set_ylabel('Loss')\n",
        "  ax.legend()\n",
        "  ax.grid()\n",
        "\n",
        "plot_loss(history)"
      ],
      "metadata": {
        "colab": {
          "base_uri": "https://localhost:8080/",
          "height": 388
        },
        "id": "5Q57dooTMjgE",
        "outputId": "45645cca-9904-4ca0-d4a6-8c0e56af04a9"
      },
      "execution_count": null,
      "outputs": [
        {
          "output_type": "display_data",
          "data": {
            "text/plain": [
              "<Figure size 700x400 with 1 Axes>"
            ],
            "image/png": "[encoded data removed]"
          },
          "metadata": {}
        }
      ]
    },
    {
      "cell_type": "code",
      "source": [
        "# Predecimos nuevos valores (calculamos f_NN(x))\n",
        "x = [1.5, 8.9]\n",
        "y = model.predict(x)\n",
        "y"
      ],
      "metadata": {
        "colab": {
          "base_uri": "https://localhost:8080/"
        },
        "id": "S0NRspreRDhv",
        "outputId": "af978b5e-400e-4ef3-a5dc-35674ce0680d"
      },
      "execution_count": null,
      "outputs": [
        {
          "output_type": "stream",
          "name": "stdout",
          "text": [
            "1/1 [==============================] - 0s 23ms/step\n"
          ]
        },
        {
          "output_type": "execute_result",
          "data": {
            "text/plain": [
              "array([[ 3.1057055],\n",
              "       [13.021507 ]], dtype=float32)"
            ]
          },
          "metadata": {},
          "execution_count": 38
        }
      ]
    },
    {
      "cell_type": "code",
      "source": [
        "# Plot the Model and the Data (\"Plot f_NN(x)\")\n",
        "x = tf.linspace(a, b, 20)\n",
        "y = model.predict(x)  # y = f_NN(x)\n",
        "\n",
        "\n",
        "fig, ax = plt.subplots(figsize=(7,4))\n",
        "ax.plot(x, y, \"-\")\n",
        "ax.scatter(x_train, y_train, label='Puntos entrenamiento', color='green', alpha=0.5)\n"
      ],
      "metadata": {
        "colab": {
          "base_uri": "https://localhost:8080/",
          "height": 403
        },
        "id": "YTlhbMGgSuLZ",
        "outputId": "656ade61-b072-4a3f-c77e-fd517c6981f3"
      },
      "execution_count": null,
      "outputs": [
        {
          "output_type": "stream",
          "name": "stdout",
          "text": [
            "1/1 [==============================] - 0s 22ms/step\n"
          ]
        },
        {
          "output_type": "execute_result",
          "data": {
            "text/plain": [
              "<matplotlib.collections.PathCollection at 0x79d28ac9b0a0>"
            ]
          },
          "metadata": {},
          "execution_count": 44
        },
        {
          "output_type": "display_data",
          "data": {
            "text/plain": [
              "<Figure size 700x400 with 1 Axes>"
            ],
            "image/png": "[encoded data removed]"
          },
          "metadata": {}
        }
      ]
    },
    {
      "cell_type": "code",
      "source": [],
      "metadata": {
        "id": "8hThguDhUOpU"
      },
      "execution_count": null,
      "outputs": []
    }
  ],
  "metadata": {
    "colab": {
      "provenance": [],
      "authorship_tag": "ABX9TyN2QBeZgdkXKE0miUCbfChF",
      "include_colab_link": true
    },
    "kernelspec": {
      "display_name": "Python 3",
      "name": "python3"
    },
    "language_info": {
      "name": "python"
    }
  },
  "nbformat": 4,
  "nbformat_minor": 0
}